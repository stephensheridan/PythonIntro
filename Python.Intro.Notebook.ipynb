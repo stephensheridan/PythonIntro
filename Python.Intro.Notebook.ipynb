{
 "cells": [
  {
   "cell_type": "markdown",
   "metadata": {
    "slideshow": {
     "slide_type": "slide"
    }
   },
   "source": [
    "![Python Logo](https://www.python.org/static/img/python-logo@2x.png) \n",
    "# A Little Python Intro in Notebook form\n",
    "My little introduction to Python in Notebook form.\n",
    "\n",
    "## 1. Python Basics\n",
    "\"Goodbye cruel world\". Too many years of \"Hello world\"\n",
    "\n",
    "## 2. Variables\n",
    "Declaring and using basic variable types"
   ]
  },
  {
   "cell_type": "code",
   "execution_count": 12,
   "metadata": {
    "collapsed": false,
    "slideshow": {
     "slide_type": "slide"
    }
   },
   "outputs": [
    {
     "name": "stdout",
     "output_type": "stream",
     "text": [
      "2.7.10 (default, Oct 23 2015, 18:05:06) \n",
      "[GCC 4.2.1 Compatible Apple LLVM 7.0.0 (clang-700.0.59.5)]\n"
     ]
    }
   ],
   "source": [
    "# Import some basic modules here\n",
    "import sys\n",
    "print(sys.version)"
   ]
  },
  {
   "cell_type": "code",
   "execution_count": 13,
   "metadata": {
    "collapsed": false
   },
   "outputs": [
    {
     "name": "stdout",
     "output_type": "stream",
     "text": [
      "Goodbye cruel world!\n"
     ]
    }
   ],
   "source": [
    "print 'Goodbye cruel world!'"
   ]
  },
  {
   "cell_type": "code",
   "execution_count": 14,
   "metadata": {
    "collapsed": false
   },
   "outputs": [
    {
     "name": "stdout",
     "output_type": "stream",
     "text": [
      "10\n",
      "1.1\n",
      "A\n",
      "Coding rocks!\n"
     ]
    }
   ],
   "source": [
    "a = 10\n",
    "f = 1.1\n",
    "c = 'A'\n",
    "msg = \"Coding rocks!\"\n",
    "\n",
    "print a\n",
    "print f\n",
    "print c\n",
    "print msg"
   ]
  },
  {
   "cell_type": "code",
   "execution_count": 16,
   "metadata": {
    "collapsed": false
   },
   "outputs": [
    {
     "name": "stdout",
     "output_type": "stream",
     "text": [
      "12\n",
      "3.14\n",
      "D\n",
      "Coding rocks! Especially with Python. Especially with Python.\n",
      "This is PIE: 3.14\n"
     ]
    }
   ],
   "source": [
    "a = a + 1\n",
    "f = 3.14\n",
    "c = chr(ord('A') + 3)\n",
    "msg = msg + \" Especially with Python.\"\n",
    "mix = \"This is PIE: \" + str(f)\n",
    "\n",
    "print a\n",
    "print f\n",
    "print c\n",
    "print msg\n",
    "print mix\n"
   ]
  },
  {
   "cell_type": "code",
   "execution_count": null,
   "metadata": {
    "collapsed": true
   },
   "outputs": [],
   "source": []
  }
 ],
 "metadata": {
  "celltoolbar": "Slideshow",
  "kernelspec": {
   "display_name": "Python 2",
   "language": "python",
   "name": "python2"
  },
  "language_info": {
   "codemirror_mode": {
    "name": "ipython",
    "version": 2
   },
   "file_extension": ".py",
   "mimetype": "text/x-python",
   "name": "python",
   "nbconvert_exporter": "python",
   "pygments_lexer": "ipython2",
   "version": "2.7.10"
  }
 },
 "nbformat": 4,
 "nbformat_minor": 0
}
