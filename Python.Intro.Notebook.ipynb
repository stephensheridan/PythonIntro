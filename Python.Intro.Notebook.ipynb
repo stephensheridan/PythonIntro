{
 "cells": [
  {
   "cell_type": "markdown",
   "metadata": {
    "slideshow": {
     "slide_type": "slide"
    }
   },
   "source": [
    "![Python Logo](https://www.python.org/static/img/python-logo@2x.png) \n",
    "# A Little Python Intro in Notebook form\n",
    "My little introduction to Python in Notebook form.\n",
    "\n",
    "## 1. Python Basics\n",
    "\"Goodbye cruel world\". Too many years of \"Hello world\"\n",
    "\n",
    "## 2. Variables\n",
    "Declaring and using basic variable types\n",
    "\n",
    "## 3. Strings\n",
    "String handling functions\n",
    "\n",
    "## 4. Screen Input & Output\n",
    "The in and out of things..."
   ]
  },
  {
   "cell_type": "markdown",
   "metadata": {},
   "source": [
    "## 1. Python Basics"
   ]
  },
  {
   "cell_type": "code",
   "execution_count": 12,
   "metadata": {
    "collapsed": false,
    "slideshow": {
     "slide_type": "slide"
    }
   },
   "outputs": [
    {
     "name": "stdout",
     "output_type": "stream",
     "text": [
      "2.7.10 (default, Oct 23 2015, 18:05:06) \n",
      "[GCC 4.2.1 Compatible Apple LLVM 7.0.0 (clang-700.0.59.5)]\n"
     ]
    }
   ],
   "source": [
    "# Import some basic modules here\n",
    "import sys\n",
    "print(sys.version)"
   ]
  },
  {
   "cell_type": "code",
   "execution_count": 13,
   "metadata": {
    "collapsed": false
   },
   "outputs": [
    {
     "name": "stdout",
     "output_type": "stream",
     "text": [
      "Goodbye cruel world!\n"
     ]
    }
   ],
   "source": [
    "print 'Goodbye cruel world!'"
   ]
  },
  {
   "cell_type": "markdown",
   "metadata": {},
   "source": [
    "## 2. Variables"
   ]
  },
  {
   "cell_type": "code",
   "execution_count": 14,
   "metadata": {
    "collapsed": false
   },
   "outputs": [
    {
     "name": "stdout",
     "output_type": "stream",
     "text": [
      "10\n",
      "1.1\n",
      "A\n",
      "Coding rocks!\n"
     ]
    }
   ],
   "source": [
    "a = 10\n",
    "f = 1.1\n",
    "c = 'A'\n",
    "msg = \"Coding rocks!\"\n",
    "\n",
    "print a\n",
    "print f\n",
    "print c\n",
    "print msg"
   ]
  },
  {
   "cell_type": "code",
   "execution_count": 16,
   "metadata": {
    "collapsed": false
   },
   "outputs": [
    {
     "name": "stdout",
     "output_type": "stream",
     "text": [
      "12\n",
      "3.14\n",
      "D\n",
      "Coding rocks! Especially with Python. Especially with Python.\n",
      "This is PIE: 3.14\n"
     ]
    }
   ],
   "source": [
    "a = a + 1\n",
    "f = 3.14\n",
    "c = chr(ord('A') + 3)\n",
    "msg = msg + \" Especially with Python.\"\n",
    "mix = \"This is PIE: \" + str(f)\n",
    "\n",
    "print a\n",
    "print f\n",
    "print c\n",
    "print msg\n",
    "print mix\n"
   ]
  },
  {
   "cell_type": "markdown",
   "metadata": {},
   "source": [
    "## 3. Strings"
   ]
  },
  {
   "cell_type": "code",
   "execution_count": 18,
   "metadata": {
    "collapsed": false
   },
   "outputs": [
    {
     "name": "stdout",
     "output_type": "stream",
     "text": [
      "HeadBodyTail\n",
      "Head Body Tail\n",
      "The variable a = 10 PIE is roughly = 3.14\n",
      "0.571428571429\n",
      "0.5714285714285714\n",
      "This sentence should begin with a capital letter.\n",
      "['this', 'sentence', 'should', 'begin', 'with', 'a', 'capital', 'letter.']\n",
      "THIS SHOULD APPEAR IN ALL UPPER CASE LETTERS.\n",
      "this should apppear in lowercase letters\n",
      "this sentence should begin with a CAPITAL letter.\n"
     ]
    }
   ],
   "source": [
    "#Numerics\n",
    "a = 10\n",
    "f = 3.14\n",
    "\n",
    "#Strings\n",
    "str1 = \"Head\"\n",
    "str2 = \"Body\"\n",
    "str3 = \"Tail\"\n",
    "\n",
    "#String concatenation\n",
    "combined = str1 + str2 + str3\n",
    "print combined\n",
    "\n",
    "#With spaces\n",
    "combined = str1 + \" \" + str2 + \" \" + str3\n",
    "print combined\n",
    "\n",
    "#With mixed types\n",
    "print \"The variable a = \" + str(a) + \" PIE is roughly = \" + str(f)\n",
    "\n",
    "# str converts to human readable form, repr converts to a form readable by the interpreter\n",
    "s1 = str(2.0/3.5)\n",
    "s2 = repr(2.0/3.5)\n",
    "print s1\n",
    "print s2\n",
    "\n",
    "#String operations\n",
    "sentence1 = \"this sentence should begin with a capital letter.\"\n",
    "print sentence1.capitalize()\n",
    "\n",
    "#Slipt a string into separate words, default separator is white-space\n",
    "print sentence1.split()\n",
    "\n",
    "up = \"this should appear in all upper case letters.\"\n",
    "up = up.upper()\n",
    "print up\n",
    "low = \"THIS SHOULD APPPEAR IN LOWERCASE LETTERS.\"\n",
    "print low.lower()\n",
    "\n",
    "#Replace an occurance of a substring with something new\n",
    "print sentence1.replace(\"capital\", \"CAPITAL\")\n"
   ]
  },
  {
   "cell_type": "markdown",
   "metadata": {},
   "source": [
    "## 4. Screen Input & Output"
   ]
  },
  {
   "cell_type": "code",
   "execution_count": 18,
   "metadata": {
    "collapsed": false
   },
   "outputs": [
    {
     "name": "stdout",
     "output_type": "stream",
     "text": [
      "What is your name? My name is Stephen\n",
      "My name is Stephen\n"
     ]
    }
   ],
   "source": [
    "# NOTE: replace raw_input with input for Python V3.x\n",
    "x = raw_input('What is your name? ')\n",
    "print (x)"
   ]
  },
  {
   "cell_type": "code",
   "execution_count": 3,
   "metadata": {
    "collapsed": false
   },
   "outputs": [
    {
     "name": "stdout",
     "output_type": "stream",
     "text": [
      "big and small\n",
      "first come first served\n",
      "first and second\n",
      "second and first\n",
      "xxx        123    98.00\n",
      "yyyy         3     1.00\n",
      "zz          42   123.34\n"
     ]
    }
   ],
   "source": [
    "# We have already seen some simple output with print\n",
    "# so what about some formatted output\n",
    "content = '{} and {}'\n",
    "print content.format('big', 'small')\n",
    "\n",
    "print '{} {} {} {}'.format('first', 'come', 'first', 'served')\n",
    "print '{0} and {1}'.format('first', 'second')\n",
    "print '{1} and {0}'.format('first', 'second')\n",
    "\n",
    "# 10s format a string with 10 spaces, left justified by default\n",
    "# 3d format an integer reserving 3 spaces, right justified by default\n",
    "# 7.2f format a float, reserving 7 spaces, 2 after the decimal point, right justfied by default.\n",
    "print '{:10s} {:3d}  {:7.2f}'.format('xxx', 123, 98)\n",
    "print '{:10s} {:3d}  {:7.2f}'.format('yyyy', 3, 1.0)\n",
    "print '{:10s} {:3d}  {:7.2f}'.format('zz', 42, 123.34)"
   ]
  },
  {
   "cell_type": "code",
   "execution_count": null,
   "metadata": {
    "collapsed": true
   },
   "outputs": [],
   "source": []
  }
 ],
 "metadata": {
  "celltoolbar": "Slideshow",
  "kernelspec": {
   "display_name": "Python 2",
   "language": "python",
   "name": "python2"
  },
  "language_info": {
   "codemirror_mode": {
    "name": "ipython",
    "version": 2
   },
   "file_extension": ".py",
   "mimetype": "text/x-python",
   "name": "python",
   "nbconvert_exporter": "python",
   "pygments_lexer": "ipython2",
   "version": "2.7.10"
  }
 },
 "nbformat": 4,
 "nbformat_minor": 0
}
